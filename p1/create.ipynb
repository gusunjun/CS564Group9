{
 "cells": [
  {
   "cell_type": "code",
   "execution_count": 3,
   "metadata": {},
   "outputs": [
    {
     "name": "stdout",
     "output_type": "stream",
     "text": [
      "The sql extension is already loaded. To reload it, use:\n",
      "  %reload_ext sql\n"
     ]
    }
   ],
   "source": [
    "%load_ext sql\n",
    "# %sql sqlite:///"
   ]
  },
  {
   "cell_type": "code",
   "execution_count": 5,
   "metadata": {},
   "outputs": [
    {
     "ename": "SyntaxError",
     "evalue": "invalid syntax (<ipython-input-5-f267ef805bc2>, line 5)",
     "output_type": "error",
     "traceback": [
      "\u001b[1;36m  File \u001b[1;32m\"<ipython-input-5-f267ef805bc2>\"\u001b[1;36m, line \u001b[1;32m5\u001b[0m\n\u001b[1;33m    CREATE TABLE Item(\u001b[0m\n\u001b[1;37m               ^\u001b[0m\n\u001b[1;31mSyntaxError\u001b[0m\u001b[1;31m:\u001b[0m invalid syntax\n"
     ]
    }
   ],
   "source": [
    "\n",
    "# drop table if exists Item;\n",
    "# drop table if exists User;\n",
    "# drop table if exists Category;\n",
    "\n",
    "CREATE TABLE Item(\n",
    "    ItemID CHAR(15) PRIMARY KEY,\n",
    "    Name CHAR(30),\n",
    "#     Currently CHAR(15),\n",
    "#     Buy_Price CHAR(15),\n",
    "#     First_Bid CHAR(15),\n",
    "#     Number_ofBids INTEGER,\n",
    "#     SellerID CHAR(15),\n",
    "#     Location CHAR(15),\n",
    "#     Country CHAR(15),\n",
    "#     Started CHAR(20),\n",
    "#     Ends CHAR(20),\n",
    "#     BidderID CHAR(15),\n",
    "    Description CHAR(100),\n",
    ")\n",
    "    \n",
    "\n",
    "CREATE TABLE BidBy(\n",
    "    UserID CHAR(15),\n",
    "    Time CHAR(20),\n",
    "    Amount INTEGER,\n",
    "    FOREIGN KEY(UserID)\n",
    "        REFERENCES Bidder(UserID)\n",
    ")\n",
    "\n",
    "CREATE TABLE User(\n",
    "    Location CHAR(15),\n",
    "    Country CHAR(15),\n",
    "    UserID CHAR(15) PRIMARY KEY,\n",
    "    Rating INTEGER\n",
    ")\n",
    "\n",
    "CREATE TABLE Seller(\n",
    "    UserID CHAR(15) PRIMARY KEY,\n",
    "    Rating INTEGER\n",
    ")\n",
    "\n",
    "CREATE TABLE Category(\n",
    "    ItemID CHAR(15),\n",
    "    cat CHAR(20),\n",
    "    FOREIGN KEY(ItemID)\n",
    "        REFERENCES items(ItemID)\n",
    "    )    "
   ]
  },
  {
   "cell_type": "code",
   "execution_count": null,
   "metadata": {},
   "outputs": [],
   "source": [
    "Relation schema:\n",
    "\n",
    "Ttem(ItemID(PK), Name, Description)\n",
    "\n",
    "User(Location, Country, UserID(PK), Rating)\n",
    "\n",
    "BidBy(ItemsID(FK refers to items),UserID(FK refers to User), Time, Amount)\n",
    "\n",
    "SellBy(ItemsID(FK refers to items),UserID(FK refers to User), Currently,Num_of_Bids,Buy_Price,First_Bid)\n",
    "//bid/sell many-one, 你看你想不想合并，如果合并的话就和我的那个差不多，都在ITEM下面\n",
    "\n",
    "BelongTo(ItemID(FK refers to items), cat(FK refers to catagort ))\n",
    "\n",
    "Category(cat(PK))\n",
    "\n",
    "合并的情况:\n",
    "\n",
    "Relation schema:\n",
    "\n",
    "items(ItemID(PK), Name, Currently, Buy_Price, First_Bid, Number_ofBids, SellerID(FK refer to Seller), Started, Ends, Description)\n",
    "\n",
    "Bids(UserID(FK refers to Bidder), Time, Amount, ItemsID(FK refers to items))\n",
    "\n",
    "User(Location, Country, UserID(PK), Rating)\n",
    "\n",
    "Category(ItemID(FK refers to items), cat(PK))\n"
   ]
  }
 ],
 "metadata": {
  "kernelspec": {
   "display_name": "Python 3",
   "language": "python",
   "name": "python3"
  },
  "language_info": {
   "codemirror_mode": {
    "name": "ipython",
    "version": 3
   },
   "file_extension": ".py",
   "mimetype": "text/x-python",
   "name": "python",
   "nbconvert_exporter": "python",
   "pygments_lexer": "ipython3",
   "version": "3.7.6"
  }
 },
 "nbformat": 4,
 "nbformat_minor": 4
}
